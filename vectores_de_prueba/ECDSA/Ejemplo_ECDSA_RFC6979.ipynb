{
  "nbformat": 4,
  "nbformat_minor": 0,
  "metadata": {
    "colab": {
      "provenance": []
    },
    "kernelspec": {
      "name": "python3",
      "display_name": "Python 3"
    },
    "language_info": {
      "name": "python"
    }
  },
  "cells": [
    {
      "cell_type": "code",
      "execution_count": 5,
      "metadata": {
        "id": "6eagN46eux5-"
      },
      "outputs": [],
      "source": [
        "# Importamos librerias y definimos funciones de operaciones de curvas elípticas\n",
        "\n",
        "import hashlib\n",
        "import random\n",
        "import binascii\n",
        "\n",
        "def extended_gcd(a, b):\n",
        "    x0, x1, y0, y1 = 1, 0, 0, 1\n",
        "    while b != 0:\n",
        "        q, a, b = a // b, b, a % b\n",
        "        x0, x1 = x1, x0 - q * x1\n",
        "        y0, y1 = y1, y0 - q * y1\n",
        "    return a, x0, y0\n",
        "\n",
        "\n",
        "def calc_inv(a, Zn):\n",
        "    gcd, x, y = extended_gcd(a, Zn)\n",
        "    if gcd != 1:\n",
        "        return False\n",
        "    return x % Zn\n",
        "\n",
        "\n",
        "def inv_aditivo(x, p):\n",
        "    if x <= p - 1:\n",
        "        return p - x\n",
        "    if x > p:\n",
        "        return p - (x % p)\n",
        "\n",
        "\n",
        "def exp_binaria(x, n):\n",
        "    resultado = 1\n",
        "    q = n - 2\n",
        "    while q > 0:\n",
        "        if q % 2 == 1:\n",
        "            resultado = (resultado * x) % n\n",
        "        x = (x * x) % n\n",
        "        q = q // 2\n",
        "    return resultado\n",
        "\n",
        "\n",
        "def pendiente(x1, y1, x2, y2, a, p):\n",
        "    if (x1 and y1) is None or (x2, y2) is None:\n",
        "        return (x1, y1) or (x2, y2)\n",
        "    if (x1 == x2 and y1 == y2):\n",
        "        return (((3 * x1 * x1) + a) * exp_binaria(2 * y1, p)) % p\n",
        "    else:\n",
        "        return ((y2 + inv_aditivo(y1, p)) * exp_binaria(x2 + inv_aditivo(x1, p), p)) % p\n",
        "\n",
        "\n",
        "def suma_de_la_curva(x1, y1, x2, y2, s, p):\n",
        "    x3 = 0\n",
        "    y3 = 0\n",
        "\n",
        "    x3 = (s * s + inv_aditivo(x1, p) + inv_aditivo(x2, p)) % p\n",
        "    y3 = (s * (x1 + inv_aditivo(x3, p)) + inv_aditivo(y1, p)) % p\n",
        "    return x3, y3\n",
        "\n",
        "\n",
        "def mult_binaria(x, y, a, p, n):\n",
        "    n = bin(n)[3:]\n",
        "    x2 = x\n",
        "    y2 = y\n",
        "    for i in n:\n",
        "        if i == '1':\n",
        "            s = pendiente(x2, y2, x2, y2, a, p)\n",
        "            x2, y2 = suma_de_la_curva(x2, y2, x2, y2, s, p)\n",
        "            s = pendiente(x2, y2, x, y, a, p)\n",
        "            x2, y2 = suma_de_la_curva(x, y, x2, y2, s, p)\n",
        "\n",
        "        if i == '0':\n",
        "            s = pendiente(x2, y2, x2, y2, a, p)\n",
        "            x2, y2 = suma_de_la_curva(x2, y2, x2, y2, s, p)\n",
        "\n",
        "    return x2, y2\n",
        "\n",
        "\n",
        "\n",
        "def sign_message(message, private_key):\n",
        "    # Definiendo curva NIST P-256\n",
        "    p = int(0xffffffff00000001000000000000000000000000ffffffffffffffffffffffff)\n",
        "    a = int(0xffffffff00000001000000000000000000000000fffffffffffffffffffffffc)\n",
        "    b = int(0x5ac635d8aa3a93e7b3ebbd55769886bc651d06b0cc53b0f63bce3c3e27d2604b)\n",
        "    gx = int(0x6b17d1f2e12c4247f8bce6e563a440f277037d812deb33a0f4a13945d898c296)\n",
        "    gy = int(0x4fe342e2fe1a7f9b8ee7eb4a7c0f9e162bce33576b315ececbb6406837bf51f5)\n",
        "    n = int(0xffffffff00000000ffffffffffffffffbce6faada7179e84f3b9cac2fc632551)\n",
        "    x = private_key\n",
        "    # = 1\n",
        "\n",
        "    # k = random.randint(1, n - 1)\n",
        "    k = int(0xA6E3C57DD01ABE90086538398355DD4C3B17AA873382B0F24D6129493D8AAD60)\n",
        "    x1, y1 = mult_binaria(gx, gy, a, p, k)\n",
        "    r = x1 % n\n",
        "\n",
        "    # Se regresa al paso 1 en caso de que r==0\n",
        "    if r == 0:\n",
        "        return sign_message(message, private_key)\n",
        "\n",
        "    # Generando k inversa\n",
        "    k_inv = exp_binaria(k, n)\n",
        "    # k_inv = pow(k,-1,n)\n",
        "    # Convirtiendo mensaje hasheado a entero\n",
        "    hash_object = hashlib.sha256()\n",
        "    hash_object.update(message.encode())\n",
        "    hexa = binascii.hexlify(hash_object.digest())\n",
        "    e = int(hexa,16)\n",
        "    s = (k_inv * (e + x * r)) % n\n",
        "\n",
        "    # Se regresa al paso 1 en caso de que s==0\n",
        "    if s == 0:\n",
        "        return sign_message(message, private_key)\n",
        "    return (r, s)"
      ]
    },
    {
      "cell_type": "code",
      "source": [
        "# Se implementa el algoritmo de verificación, los pasos seguidos para montar este algoritmo se encuentran en la descripción de la función.\n",
        "def verify_ecdsa_signature(r, s, m, n, G, Q, a):\n",
        "    '''\n",
        "    Algoritmo de verificación obtenido de (Johnson D., Menezes A., Vanstone S., 2001)\n",
        "    https://link.springer.com/content/pdf/10.1007/s102070100002.pdf?pdf=button \n",
        "    '''\n",
        "    # Paso 1: Verify que r y s esten en el intervalo [1, n-1]\n",
        "    if  not(1 <= r < n and 1 <= s < n):\n",
        "        return 'Step 1 Failed'\n",
        "\n",
        "    # Paso 2: Hashear mensaje con SHA-256 y convertirlo a decimal\n",
        "    hash_object = hashlib.sha256()\n",
        "    hash_object.update(m.encode())\n",
        "    hexa = binascii.hexlify(hash_object.digest())\n",
        "    e = int(hexa,16)\n",
        "    \n",
        "    # Paso 3: Computar w = s^-1 mod n\n",
        "    w = calc_inv(s, n)\n",
        "\n",
        "    # Paso 4: Computar u1 = (e * w) mod n and u2 = (r * w) mod n\n",
        "    u1 = (e * w) % n\n",
        "    u2 = (r * w) % n\n",
        "\n",
        "    # Paso 5: Computar X = u1G + u2Q\n",
        "    x1, y1 = mult_binaria(G[0],G[1],a,p,u1)\n",
        "    x2, y2 = mult_binaria(Q[0],Q[1],a,p,u2)\n",
        "    pend = pendiente(x1,y1,x2,y2,a,p)\n",
        "    x3, y3 = suma_de_la_curva(x1,y1,x2,y2,pend,p)\n",
        "\n",
        "    # Paso 6: If X == O, rechazar la firma\n",
        "    if (x3, y3) == (0, 0):\n",
        "        return 'Rechazar firma'\n",
        "\n",
        "    # Paso 7: Computar v = x3 mod n\n",
        "    v = x3 % n\n",
        "    # Step 8: Aceptar la firma si y solo si v = r\n",
        "    return v==r"
      ],
      "metadata": {
        "id": "GT-hjZ91v8nC"
      },
      "execution_count": 6,
      "outputs": []
    },
    {
      "cell_type": "code",
      "source": [
        "# Definimos los parámetros de la curva, y la llave privada.\n",
        "p = int(0xffffffff00000001000000000000000000000000ffffffffffffffffffffffff)\n",
        "a = int(0xffffffff00000001000000000000000000000000fffffffffffffffffffffffc)\n",
        "b = int(0x5ac635d8aa3a93e7b3ebbd55769886bc651d06b0cc53b0f63bce3c3e27d2604b)\n",
        "gx = int(0x6b17d1f2e12c4247f8bce6e563a440f277037d812deb33a0f4a13945d898c296)\n",
        "gy = int(0x4fe342e2fe1a7f9b8ee7eb4a7c0f9e162bce33576b315ececbb6406837bf51f5)\n",
        "n = int(0xffffffff00000000ffffffffffffffffbce6faada7179e84f3b9cac2fc632551)\n",
        "\n",
        "# Definimos la clave privada x(pseudo-aleatoria) de esta forma, como en el RFC-6979\n",
        "x = int(0xC9AFA9D845BA75166B5C215767B1D6934E50C3DB36E89B127B8A622B120F6721)\n",
        "Ux,Uy = mult_binaria(gx,gy,a,p,x)\n",
        "\n",
        "print('Ux: ', hex(Ux))\n",
        "print('Uy: ', hex(Uy))"
      ],
      "metadata": {
        "colab": {
          "base_uri": "https://localhost:8080/"
        },
        "id": "H0O37ssHqvC9",
        "outputId": "90228874-8dbe-483a-b038-001a63821b99"
      },
      "execution_count": 7,
      "outputs": [
        {
          "output_type": "stream",
          "name": "stdout",
          "text": [
            "Ux:  0x60fed4ba255a9d31c961eb74c6356d68c049b8923b61fa6ce669622e60f29fb6\n",
            "Uy:  0x7903fe1008b8bc99a41ae9e95628bc64f2f1b20c2d7e9f5177a3c294d4462299\n"
          ]
        }
      ]
    },
    {
      "cell_type": "markdown",
      "source": [
        "(Ux, Uy) representan a la clave pública, podemos observar que es la misma llave pública que se obtiene en el rfc-6979.\n",
        "![rfc-6979-ej2.png](data:image/png;base64,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)\n",
        "\n",
        "Esto indica que la operación escalar por punto de curva se está efectuando de forma correcta."
      ],
      "metadata": {
        "id": "jok80m5wG6N4"
      }
    },
    {
      "cell_type": "code",
      "source": [
        "# Firmado de mensaje\n",
        "r,s = sign_message(\"sample\", x)\n",
        "\n",
        "print('r: ', hex(r))\n",
        "print('s: ', hex(s))"
      ],
      "metadata": {
        "colab": {
          "base_uri": "https://localhost:8080/"
        },
        "id": "gcjT67BLu86z",
        "outputId": "b273a0cb-9a8d-4b29-c740-3b62b6baffb3"
      },
      "execution_count": 8,
      "outputs": [
        {
          "output_type": "stream",
          "name": "stdout",
          "text": [
            "r:  0xefd48b2aacb6a8fd1140dd9cd45e81d69d2c877b56aaf991c34d0ea84eaf3716\n",
            "s:  0xf7cb1c942d657c41d436c7a1b6e29f65f3e900dbb9aff4064dc4ab2f843acda8\n"
          ]
        }
      ]
    },
    {
      "cell_type": "markdown",
      "source": [
        "Podemos observar como r y s son identicas a las que deberian ser obtenidas según el RFC-6979.\n",
        "![rfc-6979_example.png](data:image/png;base64,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)\n",
        "\n",
        "Cabe recordar que k en este caso se selecciono de forma no aleatoria, sino que se uso el mismo valor que el que se presenta en la imagen, esto debido a que se busca imitar los resultados obtenidos por el RFC-6979 para ECDSA con SHA-256 en la curva NIST P-256, por lo que los parámetros pseudo-aleatorios tendrán que tomar un valor específico para comprobar el funcionamiento correcto del ECDSA."
      ],
      "metadata": {
        "id": "Wk4VVpCkEfOz"
      }
    },
    {
      "cell_type": "code",
      "source": [
        "# Verificación de firma\n",
        "verify_ecdsa_signature(r,s,\"sample\",n,(gx, gy),(Ux, Uy), a)"
      ],
      "metadata": {
        "colab": {
          "base_uri": "https://localhost:8080/"
        },
        "id": "6D32N-LSwBZz",
        "outputId": "508e6402-799b-4402-c626-b8f06619b604"
      },
      "execution_count": 9,
      "outputs": [
        {
          "output_type": "execute_result",
          "data": {
            "text/plain": [
              "True"
            ]
          },
          "metadata": {},
          "execution_count": 9
        }
      ]
    },
    {
      "cell_type": "markdown",
      "source": [
        "La función nos arroja True, en este caso significa que las variables del algoritmo de verificación r y v, son iguales, lo cual verifica la firma."
      ],
      "metadata": {
        "id": "iJ4ny3ZXGW8C"
      }
    }
  ]
}